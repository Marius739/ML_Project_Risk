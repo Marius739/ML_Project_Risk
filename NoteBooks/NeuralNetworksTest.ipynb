{
 "cells": [
  {
   "cell_type": "code",
   "execution_count": 3,
   "metadata": {},
   "outputs": [],
   "source": [
    "import pandas as pd\n",
    "from sklearn.model_selection import train_test_split\n",
    "from sklearn.preprocessing import StandardScaler\n",
    "from sklearn.ensemble import RandomForestClassifier\n",
    "from sklearn import metrics\n",
    "from sklearn.model_selection import GridSearchCV\n",
    "from sklearn.naive_bayes import GaussianNB\n",
    "from sklearn.metrics import accuracy_score, classification_report\n",
    "from sklearn.model_selection import cross_val_score"
   ]
  },
  {
   "cell_type": "code",
   "execution_count": 4,
   "metadata": {},
   "outputs": [],
   "source": [
    "def encodage(df):\n",
    "    code = {\"AAA\" : 10,\n",
    "            \"AA\" : 9,\n",
    "            \"A\" : 8,\n",
    "            \"BBB\" : 7,\n",
    "            \"BB\" : 6,\n",
    "            \"B\" : 5,\n",
    "            \"CCC\" : 4,\n",
    "            \"CC\" : 3,\n",
    "            \"C\" : 2}\n",
    "    if \"Credit Rating\" in df.columns:\n",
    "        df[\"Credit Rating\"] = df[\"Credit Rating\"].map(code)     \n",
    "    return df\n",
    "\n",
    "def features(df):\n",
    "    df['Profitability_Ratio'] = pd.to_numeric(df['Profit']) / pd.to_numeric(df['Revenue'])\n",
    "    df[\"Profit_per_employee\"] = df[\"Profit\"]/df[\"Employee Count\"]\n",
    "    df[\"RnD_Spend_to_revenue\"] = df[\"Research and Development Spend\"]/pd.to_numeric(df[\"Revenue\"])\n",
    "    df[\"Earnings_to_Market_Cap\"] = df[\"Profit\"]/df[\"Market Capitalization\"]\n",
    "    return df\n",
    "\n",
    "\n",
    "def processing(df):\n",
    "    df = encodage(df)\n",
    "    X = df.drop(\"Risk\", axis=1)\n",
    "    y = df[\"Risk\"]\n",
    "    return X, y\n",
    "\n",
    "def make_predictions(input_data, model, X_train, y_train, encoder=None, scaler=None):\n",
    "    input_data_copy = input_data.copy()\n",
    "    if encoder:\n",
    "        input_data_copy = encoder(input_data_copy)\n",
    "    feature_names = X_train.columns.tolist()\n",
    "    X_input = input_data_copy[feature_names]\n",
    "    if scaler:\n",
    "        X_input = scaler.transform(X_input)\n",
    "    predictions = model.predict(X_input)\n",
    "    input_data_copy[\"Risk\"] = predictions\n",
    "    return input_data_copy"
   ]
  },
  {
   "cell_type": "code",
   "execution_count": 5,
   "metadata": {},
   "outputs": [
    {
     "data": {
      "text/html": [
       "<div>\n",
       "<style scoped>\n",
       "    .dataframe tbody tr th:only-of-type {\n",
       "        vertical-align: middle;\n",
       "    }\n",
       "\n",
       "    .dataframe tbody tr th {\n",
       "        vertical-align: top;\n",
       "    }\n",
       "\n",
       "    .dataframe thead th {\n",
       "        text-align: right;\n",
       "    }\n",
       "</style>\n",
       "<table border=\"1\" class=\"dataframe\">\n",
       "  <thead>\n",
       "    <tr style=\"text-align: right;\">\n",
       "      <th></th>\n",
       "      <th>Company ID</th>\n",
       "      <th>Revenue</th>\n",
       "      <th>Employee Count</th>\n",
       "      <th>Credit Rating</th>\n",
       "      <th>Risk</th>\n",
       "      <th>Expenses</th>\n",
       "      <th>Research and Development Spend</th>\n",
       "      <th>Profit</th>\n",
       "      <th>Debt-to-Equity Ratio</th>\n",
       "      <th>Price-to-Earnings Ratio</th>\n",
       "      <th>Market Capitalization</th>\n",
       "    </tr>\n",
       "  </thead>\n",
       "  <tbody>\n",
       "    <tr>\n",
       "      <th>0</th>\n",
       "      <td>1050</td>\n",
       "      <td>108.507764</td>\n",
       "      <td>5695</td>\n",
       "      <td>B</td>\n",
       "      <td>1</td>\n",
       "      <td>13.614721</td>\n",
       "      <td>33.490353</td>\n",
       "      <td>94.893043</td>\n",
       "      <td>1.745759</td>\n",
       "      <td>20.659128</td>\n",
       "      <td>2159.665865</td>\n",
       "    </tr>\n",
       "    <tr>\n",
       "      <th>1</th>\n",
       "      <td>303</td>\n",
       "      <td>316.254049</td>\n",
       "      <td>5490</td>\n",
       "      <td>B</td>\n",
       "      <td>0</td>\n",
       "      <td>235.302857</td>\n",
       "      <td>16.271908</td>\n",
       "      <td>80.951192</td>\n",
       "      <td>0.724783</td>\n",
       "      <td>27.421956</td>\n",
       "      <td>1828.014221</td>\n",
       "    </tr>\n",
       "    <tr>\n",
       "      <th>2</th>\n",
       "      <td>4253</td>\n",
       "      <td>235.722107</td>\n",
       "      <td>8164</td>\n",
       "      <td>BBB</td>\n",
       "      <td>1</td>\n",
       "      <td>195.839247</td>\n",
       "      <td>6.210687</td>\n",
       "      <td>39.882860</td>\n",
       "      <td>1.481972</td>\n",
       "      <td>8.830808</td>\n",
       "      <td>354.006752</td>\n",
       "    </tr>\n",
       "    <tr>\n",
       "      <th>3</th>\n",
       "      <td>1584</td>\n",
       "      <td>298.706744</td>\n",
       "      <td>9295</td>\n",
       "      <td>A</td>\n",
       "      <td>0</td>\n",
       "      <td>271.777163</td>\n",
       "      <td>6.333781</td>\n",
       "      <td>26.929581</td>\n",
       "      <td>1.685455</td>\n",
       "      <td>26.695698</td>\n",
       "      <td>598.612673</td>\n",
       "    </tr>\n",
       "    <tr>\n",
       "      <th>4</th>\n",
       "      <td>379</td>\n",
       "      <td>425.787393</td>\n",
       "      <td>1431</td>\n",
       "      <td>BBB</td>\n",
       "      <td>0</td>\n",
       "      <td>340.989094</td>\n",
       "      <td>28.933570</td>\n",
       "      <td>84.798299</td>\n",
       "      <td>1.731434</td>\n",
       "      <td>16.101618</td>\n",
       "      <td>1602.984505</td>\n",
       "    </tr>\n",
       "  </tbody>\n",
       "</table>\n",
       "</div>"
      ],
      "text/plain": [
       "   Company ID     Revenue  Employee Count Credit Rating  Risk    Expenses  \\\n",
       "0        1050  108.507764            5695             B     1   13.614721   \n",
       "1         303  316.254049            5490             B     0  235.302857   \n",
       "2        4253  235.722107            8164           BBB     1  195.839247   \n",
       "3        1584  298.706744            9295             A     0  271.777163   \n",
       "4         379  425.787393            1431           BBB     0  340.989094   \n",
       "\n",
       "   Research and Development Spend     Profit  Debt-to-Equity Ratio  \\\n",
       "0                       33.490353  94.893043              1.745759   \n",
       "1                       16.271908  80.951192              0.724783   \n",
       "2                        6.210687  39.882860              1.481972   \n",
       "3                        6.333781  26.929581              1.685455   \n",
       "4                       28.933570  84.798299              1.731434   \n",
       "\n",
       "   Price-to-Earnings Ratio  Market Capitalization  \n",
       "0                20.659128            2159.665865  \n",
       "1                27.421956            1828.014221  \n",
       "2                 8.830808             354.006752  \n",
       "3                26.695698             598.612673  \n",
       "4                16.101618            1602.984505  "
      ]
     },
     "execution_count": 5,
     "metadata": {},
     "output_type": "execute_result"
    }
   ],
   "source": [
    "data = pd.read_csv(\"training_dataset.csv\")\n",
    "data.head()"
   ]
  },
  {
   "cell_type": "code",
   "execution_count": 6,
   "metadata": {},
   "outputs": [],
   "source": [
    "X, y = processing(data)"
   ]
  },
  {
   "cell_type": "code",
   "execution_count": 7,
   "metadata": {},
   "outputs": [],
   "source": [
    "X_train, X_test, y_train, y_test = train_test_split(X, y, test_size=0.2, random_state=0)"
   ]
  },
  {
   "cell_type": "code",
   "execution_count": 8,
   "metadata": {},
   "outputs": [],
   "source": [
    "scaler = StandardScaler()\n",
    "X_train_scaled = scaler.fit_transform(X_train)\n",
    "X_test_scaled = scaler.transform(X_test)"
   ]
  },
  {
   "cell_type": "code",
   "execution_count": 69,
   "metadata": {},
   "outputs": [
    {
     "data": {
      "text/html": [
       "<style>#sk-container-id-2 {color: black;}#sk-container-id-2 pre{padding: 0;}#sk-container-id-2 div.sk-toggleable {background-color: white;}#sk-container-id-2 label.sk-toggleable__label {cursor: pointer;display: block;width: 100%;margin-bottom: 0;padding: 0.3em;box-sizing: border-box;text-align: center;}#sk-container-id-2 label.sk-toggleable__label-arrow:before {content: \"▸\";float: left;margin-right: 0.25em;color: #696969;}#sk-container-id-2 label.sk-toggleable__label-arrow:hover:before {color: black;}#sk-container-id-2 div.sk-estimator:hover label.sk-toggleable__label-arrow:before {color: black;}#sk-container-id-2 div.sk-toggleable__content {max-height: 0;max-width: 0;overflow: hidden;text-align: left;background-color: #f0f8ff;}#sk-container-id-2 div.sk-toggleable__content pre {margin: 0.2em;color: black;border-radius: 0.25em;background-color: #f0f8ff;}#sk-container-id-2 input.sk-toggleable__control:checked~div.sk-toggleable__content {max-height: 200px;max-width: 100%;overflow: auto;}#sk-container-id-2 input.sk-toggleable__control:checked~label.sk-toggleable__label-arrow:before {content: \"▾\";}#sk-container-id-2 div.sk-estimator input.sk-toggleable__control:checked~label.sk-toggleable__label {background-color: #d4ebff;}#sk-container-id-2 div.sk-label input.sk-toggleable__control:checked~label.sk-toggleable__label {background-color: #d4ebff;}#sk-container-id-2 input.sk-hidden--visually {border: 0;clip: rect(1px 1px 1px 1px);clip: rect(1px, 1px, 1px, 1px);height: 1px;margin: -1px;overflow: hidden;padding: 0;position: absolute;width: 1px;}#sk-container-id-2 div.sk-estimator {font-family: monospace;background-color: #f0f8ff;border: 1px dotted black;border-radius: 0.25em;box-sizing: border-box;margin-bottom: 0.5em;}#sk-container-id-2 div.sk-estimator:hover {background-color: #d4ebff;}#sk-container-id-2 div.sk-parallel-item::after {content: \"\";width: 100%;border-bottom: 1px solid gray;flex-grow: 1;}#sk-container-id-2 div.sk-label:hover label.sk-toggleable__label {background-color: #d4ebff;}#sk-container-id-2 div.sk-serial::before {content: \"\";position: absolute;border-left: 1px solid gray;box-sizing: border-box;top: 0;bottom: 0;left: 50%;z-index: 0;}#sk-container-id-2 div.sk-serial {display: flex;flex-direction: column;align-items: center;background-color: white;padding-right: 0.2em;padding-left: 0.2em;position: relative;}#sk-container-id-2 div.sk-item {position: relative;z-index: 1;}#sk-container-id-2 div.sk-parallel {display: flex;align-items: stretch;justify-content: center;background-color: white;position: relative;}#sk-container-id-2 div.sk-item::before, #sk-container-id-2 div.sk-parallel-item::before {content: \"\";position: absolute;border-left: 1px solid gray;box-sizing: border-box;top: 0;bottom: 0;left: 50%;z-index: -1;}#sk-container-id-2 div.sk-parallel-item {display: flex;flex-direction: column;z-index: 1;position: relative;background-color: white;}#sk-container-id-2 div.sk-parallel-item:first-child::after {align-self: flex-end;width: 50%;}#sk-container-id-2 div.sk-parallel-item:last-child::after {align-self: flex-start;width: 50%;}#sk-container-id-2 div.sk-parallel-item:only-child::after {width: 0;}#sk-container-id-2 div.sk-dashed-wrapped {border: 1px dashed gray;margin: 0 0.4em 0.5em 0.4em;box-sizing: border-box;padding-bottom: 0.4em;background-color: white;}#sk-container-id-2 div.sk-label label {font-family: monospace;font-weight: bold;display: inline-block;line-height: 1.2em;}#sk-container-id-2 div.sk-label-container {text-align: center;}#sk-container-id-2 div.sk-container {/* jupyter's `normalize.less` sets `[hidden] { display: none; }` but bootstrap.min.css set `[hidden] { display: none !important; }` so we also need the `!important` here to be able to override the default hidden behavior on the sphinx rendered scikit-learn.org. See: https://github.com/scikit-learn/scikit-learn/issues/21755 */display: inline-block !important;position: relative;}#sk-container-id-2 div.sk-text-repr-fallback {display: none;}</style><div id=\"sk-container-id-2\" class=\"sk-top-container\"><div class=\"sk-text-repr-fallback\"><pre>GaussianNB(var_smoothing=1e-11)</pre><b>In a Jupyter environment, please rerun this cell to show the HTML representation or trust the notebook. <br />On GitHub, the HTML representation is unable to render, please try loading this page with nbviewer.org.</b></div><div class=\"sk-container\" hidden><div class=\"sk-item\"><div class=\"sk-estimator sk-toggleable\"><input class=\"sk-toggleable__control sk-hidden--visually\" id=\"sk-estimator-id-2\" type=\"checkbox\" checked><label for=\"sk-estimator-id-2\" class=\"sk-toggleable__label sk-toggleable__label-arrow\">GaussianNB</label><div class=\"sk-toggleable__content\"><pre>GaussianNB(var_smoothing=1e-11)</pre></div></div></div></div></div>"
      ],
      "text/plain": [
       "GaussianNB(var_smoothing=1e-11)"
      ]
     },
     "execution_count": 69,
     "metadata": {},
     "output_type": "execute_result"
    }
   ],
   "source": [
    "gnb = GaussianNB(var_smoothing=1e-11)\n",
    "gnb.fit(X_train, y_train)"
   ]
  },
  {
   "cell_type": "code",
   "execution_count": 70,
   "metadata": {},
   "outputs": [
    {
     "name": "stdout",
     "output_type": "stream",
     "text": [
      "Accuracy: 0.73\n",
      "Classification Report:\n",
      "               precision    recall  f1-score   support\n",
      "\n",
      "           0       0.73      1.00      0.84       876\n",
      "           1       0.00      0.00      0.00       324\n",
      "\n",
      "    accuracy                           0.73      1200\n",
      "   macro avg       0.36      0.50      0.42      1200\n",
      "weighted avg       0.53      0.73      0.62      1200\n",
      "\n"
     ]
    },
    {
     "name": "stderr",
     "output_type": "stream",
     "text": [
      "c:\\Users\\mpmol\\AppData\\Local\\Programs\\Python\\Python311\\Lib\\site-packages\\sklearn\\metrics\\_classification.py:1471: UndefinedMetricWarning: Precision and F-score are ill-defined and being set to 0.0 in labels with no predicted samples. Use `zero_division` parameter to control this behavior.\n",
      "  _warn_prf(average, modifier, msg_start, len(result))\n",
      "c:\\Users\\mpmol\\AppData\\Local\\Programs\\Python\\Python311\\Lib\\site-packages\\sklearn\\metrics\\_classification.py:1471: UndefinedMetricWarning: Precision and F-score are ill-defined and being set to 0.0 in labels with no predicted samples. Use `zero_division` parameter to control this behavior.\n",
      "  _warn_prf(average, modifier, msg_start, len(result))\n",
      "c:\\Users\\mpmol\\AppData\\Local\\Programs\\Python\\Python311\\Lib\\site-packages\\sklearn\\metrics\\_classification.py:1471: UndefinedMetricWarning: Precision and F-score are ill-defined and being set to 0.0 in labels with no predicted samples. Use `zero_division` parameter to control this behavior.\n",
      "  _warn_prf(average, modifier, msg_start, len(result))\n"
     ]
    }
   ],
   "source": [
    "y_pred = gnb.predict(X_test)\n",
    "accuracy = accuracy_score(y_test, y_pred)\n",
    "print(f\"Accuracy: {accuracy}\")\n",
    "print(\"Classification Report:\\n\", classification_report(y_test, y_pred))"
   ]
  },
  {
   "cell_type": "code",
   "execution_count": 40,
   "metadata": {},
   "outputs": [],
   "source": [
    "import xgboost as xgb\n"
   ]
  },
  {
   "cell_type": "code",
   "execution_count": 41,
   "metadata": {},
   "outputs": [
    {
     "name": "stdout",
     "output_type": "stream",
     "text": [
      "XGBoost Accuracy: 0.6875\n",
      "XGBoost Classification Report:\n",
      "               precision    recall  f1-score   support\n",
      "\n",
      "           0       0.71      0.93      0.81       557\n",
      "           1       0.45      0.13      0.20       243\n",
      "\n",
      "    accuracy                           0.69       800\n",
      "   macro avg       0.58      0.53      0.50       800\n",
      "weighted avg       0.63      0.69      0.62       800\n",
      "\n"
     ]
    }
   ],
   "source": [
    "xgb_model = xgb.XGBClassifier(objective='binary:logistic', \n",
    "                              eval_metric=\"logloss\")\n",
    "\n",
    "xgb_model.fit(X_train, y_train)\n",
    "y_pred_xgb = xgb_model.predict(X_test)\n",
    "accuracy_xgb = accuracy_score(y_test, y_pred_xgb)\n",
    "print(f\"XGBoost Accuracy: {accuracy_xgb}\")\n",
    "print(\"XGBoost Classification Report:\\n\", classification_report(y_test, y_pred_xgb))"
   ]
  },
  {
   "cell_type": "code",
   "execution_count": 42,
   "metadata": {},
   "outputs": [],
   "source": [
    "import lightgbm as lgb"
   ]
  },
  {
   "cell_type": "code",
   "execution_count": 43,
   "metadata": {},
   "outputs": [
    {
     "name": "stdout",
     "output_type": "stream",
     "text": [
      "[LightGBM] [Warning] Found whitespace in feature_names, replace with underlines\n",
      "[LightGBM] [Info] Number of positive: 809, number of negative: 2391\n",
      "[LightGBM] [Info] Auto-choosing col-wise multi-threading, the overhead of testing was 0.000178 seconds.\n",
      "You can set `force_col_wise=true` to remove the overhead.\n",
      "[LightGBM] [Info] Total Bins 2303\n",
      "[LightGBM] [Info] Number of data points in the train set: 3200, number of used features: 10\n",
      "[LightGBM] [Info] [binary:BoostFromScore]: pavg=0.403592 -> initscore=-0.390521\n",
      "[LightGBM] [Info] Start training from score -0.390521\n",
      "LightGBM Accuracy (après optimisation) : 0.67625\n",
      "LightGBM Classification Report:\n",
      "               precision    recall  f1-score   support\n",
      "\n",
      "           0       0.71      0.89      0.79       557\n",
      "           1       0.42      0.18      0.25       243\n",
      "\n",
      "    accuracy                           0.68       800\n",
      "   macro avg       0.57      0.54      0.52       800\n",
      "weighted avg       0.63      0.68      0.63       800\n",
      "\n"
     ]
    }
   ],
   "source": [
    "lgb_model = lgb.LGBMClassifier(objective='binary', \n",
    "                               metric='binary_logloss', \n",
    "                               random_state=42,\n",
    "                               n_estimators=250,\n",
    "                               class_weight={0:0.5, 1:1},\n",
    "                               learning_rate=0.2)\n",
    "                               \n",
    "\n",
    "lgb_model.fit(X_train, y_train)\n",
    "y_pred_lgb = lgb_model.predict(X_test)\n",
    "accuracy_lgb = accuracy_score(y_test, y_pred_lgb)\n",
    "print(f\"LightGBM Accuracy (après optimisation) : {accuracy_lgb}\")\n",
    "print(\"LightGBM Classification Report:\\n\", classification_report(y_test, y_pred_lgb))\n",
    "\n"
   ]
  },
  {
   "cell_type": "code",
   "execution_count": 11,
   "metadata": {},
   "outputs": [],
   "source": [
    "from sklearn.ensemble import AdaBoostClassifier\n",
    "from sklearn.ensemble import RandomForestClassifier\n",
    "from sklearn.metrics import make_scorer, precision_score\n",
    "import seaborn as sns\n",
    "import matplotlib.pyplot as plt\n",
    "from sklearn.metrics import confusion_matrix\n",
    "from sklearn.metrics import roc_curve, auc\n",
    "from sklearn.metrics import precision_recall_curve"
   ]
  },
  {
   "cell_type": "code",
   "execution_count": 31,
   "metadata": {},
   "outputs": [
    {
     "name": "stdout",
     "output_type": "stream",
     "text": [
      "Meilleurs hyperparamètres : {'learning_rate': 0.1, 'n_estimators': 50}\n",
      "AdaBoost Precision: 0.6177542293233083\n",
      "AdaBoost Classification Report:\n",
      "               precision    recall  f1-score   support\n",
      "\n",
      "           0       0.74      0.55      0.63       557\n",
      "           1       0.35      0.54      0.42       243\n",
      "\n",
      "    accuracy                           0.55       800\n",
      "   macro avg       0.54      0.55      0.53       800\n",
      "weighted avg       0.62      0.55      0.57       800\n",
      "\n"
     ]
    }
   ],
   "source": [
    "base_model = RandomForestClassifier(bootstrap=True,\n",
    "                                      class_weight={0:1, 1:3},\n",
    "                                      max_depth=2,\n",
    "                                      min_samples_leaf=1,\n",
    "                                      min_samples_split=10,\n",
    "                                      n_estimators=50)\n",
    "\n",
    "adaboost_model = AdaBoostClassifier(base_model, random_state=0, algorithm=\"SAMME.R\", learning_rate=0.2)\n",
    "param_grid = {\n",
    "    'n_estimators': [50, 100, 200],\n",
    "    'learning_rate': [0.1, 0.2, 0.3],\n",
    "}\n",
    "precision_scorer = make_scorer(precision_score, average='weighted')\n",
    "\n",
    "grid_search = GridSearchCV(estimator=adaboost_model, param_grid=param_grid, scoring=precision_scorer, cv=3)\n",
    "grid_search.fit(X_train, y_train)\n",
    "\n",
    "print(\"Meilleurs hyperparamètres :\", grid_search.best_params_)\n",
    "\n",
    "best_adaboost_model = grid_search.best_estimator_\n",
    "\n",
    "y_pred_adaboost = best_adaboost_model.predict(X_test)\n",
    "precision_adaboost = precision_score(y_test, y_pred_adaboost, average='weighted')\n",
    "print(f\"AdaBoost Precision: {precision_adaboost}\")\n",
    "print(\"AdaBoost Classification Report:\\n\", classification_report(y_test, y_pred_adaboost))"
   ]
  },
  {
   "cell_type": "code",
   "execution_count": 73,
   "metadata": {},
   "outputs": [
    {
     "name": "stdout",
     "output_type": "stream",
     "text": [
      "Random Forest Accuracy: 0.5325\n",
      "Random Forest Classification Report:\n",
      "               precision    recall  f1-score   support\n",
      "\n",
      "           0       0.75      0.53      0.62       876\n",
      "           1       0.30      0.53      0.38       324\n",
      "\n",
      "    accuracy                           0.53      1200\n",
      "   macro avg       0.53      0.53      0.50      1200\n",
      "weighted avg       0.63      0.53      0.56      1200\n",
      "\n"
     ]
    }
   ],
   "source": [
    "random_forest_model = RandomForestClassifier(n_estimators=75, random_state=0, class_weight={0:1, 1:3}, max_depth=3)\n",
    "random_forest_model.fit(X_train, y_train)\n",
    "y_pred_random_forest = random_forest_model.predict(X_test)\n",
    "accuracy_random_forest = accuracy_score(y_test, y_pred_random_forest)\n",
    "print(f\"Random Forest Accuracy: {accuracy_random_forest}\")\n",
    "print(\"Random Forest Classification Report:\\n\", classification_report(y_test, y_pred_random_forest))"
   ]
  },
  {
   "cell_type": "code",
   "execution_count": 74,
   "metadata": {},
   "outputs": [
    {
     "data": {
      "image/png": "[encoded data removed]",
      "text/plain": [
       "<Figure size 640x480 with 1 Axes>"
      ]
     },
     "metadata": {},
     "output_type": "display_data"
    }
   ],
   "source": [
    "cm = confusion_matrix(y_test, y_pred_random_forest)\n",
    "\n",
    "sns.heatmap(cm, annot=True, fmt='d', cmap='Blues', cbar=False,\n",
    "            xticklabels=['No Risk', 'Risk'], yticklabels=['No Risk', 'Risk'])\n",
    "plt.xlabel('Predicted')\n",
    "plt.ylabel('Actual')\n",
    "plt.title('Confusion Matrix')\n",
    "plt.show()"
   ]
  },
  {
   "cell_type": "code",
   "execution_count": 76,
   "metadata": {},
   "outputs": [
    {
     "name": "stdout",
     "output_type": "stream",
     "text": [
      "Scores de la validation croisée : [0.47    0.495   0.47625 0.4925  0.48625]\n",
      "Moyenne des scores : 0.484\n"
     ]
    }
   ],
   "source": [
    "random_forest_model_2 = RandomForestClassifier(n_estimators=100, random_state=0)\n",
    "cv_scores = cross_val_score(random_forest_model, X, y, cv=5, scoring='accuracy')\n",
    "print(\"Scores de la validation croisée :\", cv_scores)\n",
    "mean_accuracy = cv_scores.mean()\n",
    "print(\"Moyenne des scores :\", mean_accuracy)\n"
   ]
  },
  {
   "cell_type": "code",
   "execution_count": 12,
   "metadata": {},
   "outputs": [],
   "source": [
    "from sklearn.neural_network import MLPClassifier"
   ]
  },
  {
   "cell_type": "code",
   "execution_count": 155,
   "metadata": {},
   "outputs": [
    {
     "name": "stdout",
     "output_type": "stream",
     "text": [
      "Accuracy: 0.70625\n",
      "Classification Report:\n",
      "               precision    recall  f1-score   support\n",
      "\n",
      "           0       0.73      0.96      0.83       581\n",
      "           1       0.25      0.04      0.06       219\n",
      "\n",
      "    accuracy                           0.71       800\n",
      "   macro avg       0.49      0.50      0.44       800\n",
      "weighted avg       0.60      0.71      0.62       800\n",
      "\n"
     ]
    }
   ],
   "source": [
    "model = MLPClassifier(hidden_layer_sizes=(12,5), \n",
    "                      max_iter=1000, \n",
    "                      random_state=42,\n",
    "                      activation=\"relu\",\n",
    "                      solver=\"adam\",\n",
    "                      alpha=0.0001,\n",
    "                      learning_rate=\"constant\")\n",
    "model.fit(X_train, y_train)\n",
    "y_pred_3 = model.predict(X_test)\n",
    "accuracy = accuracy_score(y_test, y_pred_3)\n",
    "print(f\"Accuracy: {accuracy}\")\n",
    "print(\"Classification Report:\\n\", classification_report(y_test, y_pred_3))"
   ]
  },
  {
   "cell_type": "code",
   "execution_count": 150,
   "metadata": {},
   "outputs": [
    {
     "data": {
      "image/png": "[encoded data removed]",
      "text/plain": [
       "<Figure size 640x480 with 1 Axes>"
      ]
     },
     "metadata": {},
     "output_type": "display_data"
    }
   ],
   "source": [
    "cm_2 = confusion_matrix(y_test, y_pred_3)\n",
    "\n",
    "sns.heatmap(cm_2, annot=True, fmt='d', cmap='Blues', cbar=False,\n",
    "            xticklabels=['No Risk', 'Risk'], yticklabels=['No Risk', 'Risk'])\n",
    "plt.xlabel('Predicted')\n",
    "plt.ylabel('Actual')\n",
    "plt.title('Confusion Matrix')\n",
    "plt.show()"
   ]
  },
  {
   "cell_type": "code",
   "execution_count": 1,
   "metadata": {},
   "outputs": [],
   "source": [
    "from imblearn.over_sampling import RandomOverSampler"
   ]
  },
  {
   "cell_type": "code",
   "execution_count": 9,
   "metadata": {},
   "outputs": [],
   "source": [
    "ros = RandomOverSampler(random_state=42)\n",
    "X_resampled, y_resampled = ros.fit_resample(X_train, y_train)"
   ]
  },
  {
   "cell_type": "code",
   "execution_count": 32,
   "metadata": {},
   "outputs": [
    {
     "name": "stdout",
     "output_type": "stream",
     "text": [
      "Classification Report:\n",
      "               precision    recall  f1-score   support\n",
      "\n",
      "           0       0.74      0.39      0.51       581\n",
      "           1       0.28      0.63      0.39       219\n",
      "\n",
      "    accuracy                           0.45       800\n",
      "   macro avg       0.51      0.51      0.45       800\n",
      "weighted avg       0.61      0.45      0.47       800\n",
      "\n"
     ]
    }
   ],
   "source": [
    "model = MLPClassifier(hidden_layer_sizes=(500,250,100), \n",
    "                      max_iter=1000, \n",
    "                      random_state=42,\n",
    "                      activation=\"relu\",\n",
    "                      solver=\"adam\",\n",
    "                      alpha=0.000001,\n",
    "                      learning_rate=\"adaptive\")\n",
    "model.fit(X_resampled, y_resampled)\n",
    "\n",
    "y_pred = model.predict(X_test)\n",
    "\n",
    "print(\"Classification Report:\\n\", classification_report(y_test, y_pred))"
   ]
  }
 ],
 "metadata": {
  "kernelspec": {
   "display_name": "Python 3",
   "language": "python",
   "name": "python3"
  },
  "language_info": {
   "codemirror_mode": {
    "name": "ipython",
    "version": 3
   },
   "file_extension": ".py",
   "mimetype": "text/x-python",
   "name": "python",
   "nbconvert_exporter": "python",
   "pygments_lexer": "ipython3",
   "version": "3.11.5"
  }
 },
 "nbformat": 4,
 "nbformat_minor": 2
}
